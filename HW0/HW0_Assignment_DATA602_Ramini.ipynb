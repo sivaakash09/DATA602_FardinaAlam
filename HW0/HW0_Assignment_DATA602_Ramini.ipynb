{
 "cells": [
  {
   "cell_type": "markdown",
   "metadata": {},
   "source": [
    "This assignment is intended to ensure that you are able to edit and submit Jupyter Notebooks. \n",
    "\n",
    "The goal is to write a function to count the frequency of different characters in a given string. For example: character_frequency('google') should return a `dict`: {'g': 2, 'o': 2, 'l': 1, 'e': 1}. \n",
    "\n",
    "There are many tutorials on the web that can show you how to use the Python data structures. Quite a few examples at: https://docs.python.org/3/tutorial/datastructures.html\n",
    "\n",
    "\n",
    "You should edit the function definition below, make sure to press 'Shift + Enter' to execute it, and then execute the two function calls to check that the output is correct."
   ]
  },
  {
   "cell_type": "code",
   "execution_count": 20,
   "metadata": {
    "collapsed": true
   },
   "outputs": [],
   "source": [
    "\n",
    "\n",
    "def character_frequency(string):\n",
    "    ret = dict()\n",
    "    for s in string:\n",
    "        #iterate through the string and check each \n",
    "        # character if its in dictionary\n",
    "        if s in ret:\n",
    "            ret[s] += 1\n",
    "        else:\n",
    "            #if char not in dictionary it adds new \n",
    "            # character in our dictionary\n",
    "            ret[s] = 1\n",
    "    return ret\n",
    "   "
   ]
  },
  {
   "cell_type": "code",
   "execution_count": 21,
   "metadata": {},
   "outputs": [
    {
     "data": {
      "text/plain": [
       "{'g': 2, 'o': 2, 'l': 1, 'e': 1}"
      ]
     },
     "execution_count": 21,
     "metadata": {},
     "output_type": "execute_result"
    }
   ],
   "source": [
    "character_frequency('google')"
   ]
  },
  {
   "cell_type": "code",
   "execution_count": 22,
   "metadata": {},
   "outputs": [
    {
     "data": {
      "text/plain": [
       "{'T': 1,\n",
       " 'h': 2,\n",
       " 'i': 6,\n",
       " 's': 7,\n",
       " ' ': 15,\n",
       " 'a': 5,\n",
       " 'g': 1,\n",
       " 'n': 6,\n",
       " 'm': 2,\n",
       " 'e': 10,\n",
       " 't': 10,\n",
       " 'd': 4,\n",
       " 'o': 6,\n",
       " 'u': 4,\n",
       " 'r': 3,\n",
       " 'y': 2,\n",
       " 'b': 3,\n",
       " 'l': 1,\n",
       " 'J': 1,\n",
       " 'p': 1,\n",
       " 'N': 1,\n",
       " 'k': 1,\n",
       " '.': 1}"
      ]
     },
     "execution_count": 22,
     "metadata": {},
     "output_type": "execute_result"
    }
   ],
   "source": [
    "character_frequency('This assignment is intended to ensure that you are able to edit and submit Jupyter Notebooks.')"
   ]
  },
  {
   "cell_type": "code",
   "execution_count": 1,
   "metadata": {},
   "outputs": [
    {
     "name": "stdout",
     "output_type": "stream",
     "text": [
      "PyTorch Version:  2.4.1+cu124\n"
     ]
    }
   ],
   "source": [
    "import torch\n",
    "print(\"PyTorch Version: \", torch.__version__)\n"
   ]
  },
  {
   "cell_type": "code",
   "execution_count": 3,
   "metadata": {},
   "outputs": [
    {
     "name": "stdout",
     "output_type": "stream",
     "text": [
      "GPU Available:  True\n"
     ]
    }
   ],
   "source": [
    "print(\"GPU Available: \", torch.cuda.is_available())\n"
   ]
  },
  {
   "cell_type": "markdown",
   "metadata": {},
   "source": [
    "In Below, Provide GitHub Repository URL:"
   ]
  },
  {
   "cell_type": "markdown",
   "metadata": {},
   "source": [
    "https://github.com/sivaakash09/DATA602_FardinaAlam"
   ]
  },
  {
   "cell_type": "markdown",
   "metadata": {},
   "source": [
    "In Below, GitHub Page URL:"
   ]
  },
  {
   "cell_type": "markdown",
   "metadata": {},
   "source": [
    "https://sivaakash09.github.io/website_demo/"
   ]
  },
  {
   "cell_type": "markdown",
   "metadata": {},
   "source": [
    "Below, add the screenshots. You can include additional markdown or text cells if needed."
   ]
  },
  {
   "cell_type": "markdown",
   "metadata": {},
   "source": [
    "### Docker Terminal Img.\n",
    "![Docker Image 1](../Outputs/docker_terminal_SivaAkashRamini_121301796.png)\n"
   ]
  },
  {
   "cell_type": "markdown",
   "metadata": {},
   "source": [
    "### Docker Run Output\n",
    "![Docker Image 2](../Outputs\\DockerFinaview_SivaAkashRamini_121301796.png)\n"
   ]
  },
  {
   "cell_type": "markdown",
   "metadata": {},
   "source": [
    "### Google Co-lab Python\n",
    "![Colab Image](../Outputs\\googleColab_SivaAkashRamini_121301796.png)\n"
   ]
  },
  {
   "cell_type": "markdown",
   "metadata": {},
   "source": [
    "### Python Script in Local\n",
    "![Python Image2](../Outputs\\PythonLocal_SivaAkashRamini_121301796.png)\n"
   ]
  },
  {
   "cell_type": "markdown",
   "metadata": {},
   "source": [
    "### Python code Jupyternotebook\n",
    "![PyTorch Image 2](../Outputs\\python_Code_jupyter_SivaAkashRamini_121301796.png)"
   ]
  },
  {
   "cell_type": "markdown",
   "metadata": {},
   "source": [
    "### PyTorch google Colab\n",
    "![PyTorch Image 1](../Outputs\\pytorch_google_colab_SIvaAkashRamini_121301796.png)\n"
   ]
  },
  {
   "cell_type": "markdown",
   "metadata": {},
   "source": [
    "### PyTorch local \n",
    "![PyTorch Image 2](../Outputs\\pytorch_local_SivaAkashRamini121301796.png)\n"
   ]
  }
 ],
 "metadata": {
  "kernelspec": {
   "display_name": "Python 3",
   "language": "python",
   "name": "python3"
  },
  "language_info": {
   "codemirror_mode": {
    "name": "ipython",
    "version": 3
   },
   "file_extension": ".py",
   "mimetype": "text/x-python",
   "name": "python",
   "nbconvert_exporter": "python",
   "pygments_lexer": "ipython3",
   "version": "3.12.4"
  }
 },
 "nbformat": 4,
 "nbformat_minor": 2
}
